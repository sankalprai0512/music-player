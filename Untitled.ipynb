{
 "cells": [
  {
   "cell_type": "code",
   "execution_count": 1,
   "id": "fb83a806",
   "metadata": {},
   "outputs": [
    {
     "name": "stdout",
     "output_type": "stream",
     "text": [
      "pygame 2.5.2 (SDL 2.28.3, Python 3.11.4)\n",
      "Hello from the pygame community. https://www.pygame.org/contribute.html\n"
     ]
    }
   ],
   "source": [
    "import pygame\n",
    "from tkinter import *\n",
    "from tkinter import filedialog\n",
    "\n",
    "\n",
    "pygame.mixer.init()\n",
    "\n",
    "def browse_file():\n",
    "    global filename\n",
    "    filename = filedialog.askopenfilename()\n",
    "\n",
    "def play_song():\n",
    "    pygame.mixer.music.load(filename)\n",
    "    pygame.mixer.music.play()\n",
    "\n",
    "def stop_song():\n",
    "    if pygame.mixer.get_init(): \n",
    "        pygame.mixer.music.stop()\n",
    "    else:\n",
    "        print(\"Mixer is not initialized\")\n",
    "\n",
    "root = Tk()\n",
    "root.title(\"sankalp player\")\n",
    "\n",
    "\n",
    "browse_button = Button(\n",
    "    root,\n",
    "    text=\"Browse\",\n",
    "    command=browse_file,\n",
    "    wraplength=200\n",
    ")\n",
    "play_button = Button(\n",
    "    root,\n",
    "    text=\"Play\",\n",
    "    command=play_song,\n",
    "    wraplength=200\n",
    ")\n",
    "stop_button = Button(\n",
    "    root,\n",
    "    text=\"Stop\",\n",
    "    command=stop_song,\n",
    "    wraplength=200\n",
    ")\n",
    "\n",
    "\n",
    "browse_button.pack()\n",
    "play_button.pack()\n",
    "stop_button.pack()\n",
    "\n",
    "root.mainloop()\n"
   ]
  },
  {
   "cell_type": "code",
   "execution_count": null,
   "id": "174e0ca3",
   "metadata": {},
   "outputs": [],
   "source": []
  }
 ],
 "metadata": {
  "kernelspec": {
   "display_name": "Python 3 (ipykernel)",
   "language": "python",
   "name": "python3"
  },
  "language_info": {
   "codemirror_mode": {
    "name": "ipython",
    "version": 3
   },
   "file_extension": ".py",
   "mimetype": "text/x-python",
   "name": "python",
   "nbconvert_exporter": "python",
   "pygments_lexer": "ipython3",
   "version": "3.11.4"
  }
 },
 "nbformat": 4,
 "nbformat_minor": 5
}
